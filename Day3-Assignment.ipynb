{
 "cells": [
  {
   "cell_type": "markdown",
   "metadata": {},
   "source": [
    "__Q1. Find the sum of n numbers with help of while loop.__"
   ]
  },
  {
   "cell_type": "code",
   "execution_count": 4,
   "metadata": {},
   "outputs": [
    {
     "name": "stdout",
     "output_type": "stream",
     "text": [
      "Enter the no of Numbers that the user Want to add: 5\n",
      "Enter the Number: 35\n",
      "Enter the Number: 121\n",
      "Enter the Number: 41\n",
      "Enter the Number: 32\n",
      "Enter the Number: 7\n",
      "Ths sum of all this nos = 236\n"
     ]
    }
   ],
   "source": [
    "n=int(input(\"Enter the no of Numbers that the user Want to add: \"))\n",
    "sum=0\n",
    "while(n>0):\n",
    "    n1=int(input(\"Enter the Number: \"))\n",
    "    sum+=n1\n",
    "    n-=1\n",
    "print(\"Ths sum of all this nos =\", sum)"
   ]
  },
  {
   "cell_type": "markdown",
   "metadata": {},
   "source": [
    "__Q2. Take an Integer and find whether the number is prime or not.__"
   ]
  },
  {
   "cell_type": "code",
   "execution_count": 3,
   "metadata": {},
   "outputs": [
    {
     "name": "stdout",
     "output_type": "stream",
     "text": [
      "Enter the Number: 20\n",
      "20 ----> It is not a Prime Number\n"
     ]
    }
   ],
   "source": [
    "n=int(input(\"Enter the Number: \"))\n",
    "var=0\n",
    "for i in range(2,n):\n",
    "    if n%i==0:\n",
    "        var=1\n",
    "if var==1:\n",
    "    print(n,\"---->\", \"It is not a Prime Number\")\n",
    "else:\n",
    "    print(n,\"---->\", \"It is a Prime Number\")"
   ]
  }
 ],
 "metadata": {
  "kernelspec": {
   "display_name": "Python 3",
   "language": "python",
   "name": "python3"
  },
  "language_info": {
   "codemirror_mode": {
    "name": "ipython",
    "version": 3
   },
   "file_extension": ".py",
   "mimetype": "text/x-python",
   "name": "python",
   "nbconvert_exporter": "python",
   "pygments_lexer": "ipython3",
   "version": "3.7.6"
  }
 },
 "nbformat": 4,
 "nbformat_minor": 4
}
