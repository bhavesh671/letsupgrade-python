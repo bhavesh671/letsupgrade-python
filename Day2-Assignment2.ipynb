{
 "cells": [
  {
   "cell_type": "markdown",
   "metadata": {},
   "source": [
    "# Back Slash\n",
    "It doesnt terminate the line.... it continues to other line ."
   ]
  },
  {
   "cell_type": "code",
   "execution_count": 3,
   "metadata": {},
   "outputs": [
    {
     "name": "stdout",
     "output_type": "stream",
     "text": [
      "Hello Python\n"
     ]
    }
   ],
   "source": [
    "print(\"Hello \\\n",
    "Python\")"
   ]
  },
  {
   "cell_type": "markdown",
   "metadata": {},
   "source": [
    "# Triple Quotes\n",
    "#### IT CAN PRINT MULTIPLE LINE STATEMENTS .... It is also use as an doc string."
   ]
  },
  {
   "cell_type": "code",
   "execution_count": 6,
   "metadata": {},
   "outputs": [
    {
     "name": "stdout",
     "output_type": "stream",
     "text": [
      "My  name is Akshay\n",
      "Lets  Have some  fun In  our\n",
      "life \n"
     ]
    }
   ],
   "source": [
    "print(\"\"\"My  name is Akshay\n",
    "Lets  Have some  fun In  our\n",
    "life \"\"\")"
   ]
  },
  {
   "cell_type": "markdown",
   "metadata": {},
   "source": [
    "# String inside the quotes"
   ]
  },
  {
   "cell_type": "code",
   "execution_count": 7,
   "metadata": {},
   "outputs": [
    {
     "name": "stdout",
     "output_type": "stream",
     "text": [
      "Hello 'my name is Akshay'!!!! u Can ask any question to me \n"
     ]
    }
   ],
   "source": [
    "print(\"Hello 'my name is Akshay'!!!! u Can ask any question to me \")"
   ]
  },
  {
   "cell_type": "markdown",
   "metadata": {},
   "source": [
    "# Escape Character\n",
    " Its is nothing but the character called \\n which can change the line ."
   ]
  },
  {
   "cell_type": "code",
   "execution_count": 35,
   "metadata": {},
   "outputs": [
    {
     "name": "stdout",
     "output_type": "stream",
     "text": [
      "hello\n",
      "Python\n"
     ]
    }
   ],
   "source": [
    "print(\"hello\\nPython\")"
   ]
  },
  {
   "cell_type": "code",
   "execution_count": 1,
   "metadata": {},
   "outputs": [
    {
     "name": "stdout",
     "output_type": "stream",
     "text": [
      "hello\tpython\n"
     ]
    }
   ],
   "source": [
    "print('hello\\tpython') #\\t is an tab character"
   ]
  },
  {
   "cell_type": "markdown",
   "metadata": {},
   "source": [
    "# Formatted output\n"
   ]
  },
  {
   "cell_type": "code",
   "execution_count": 3,
   "metadata": {},
   "outputs": [
    {
     "name": "stdout",
     "output_type": "stream",
     "text": [
      "My name is  akshay i scored 98 marks and My age is 20\n"
     ]
    }
   ],
   "source": [
    "name='akshay'\n",
    "marks=98                                                        \n",
    "age=20\n",
    "print(\"My name is \",name,'i scored', marks ,'marks and My age is',age)"
   ]
  },
  {
   "cell_type": "code",
   "execution_count": 4,
   "metadata": {},
   "outputs": [
    {
     "name": "stdout",
     "output_type": "stream",
     "text": [
      "My name is akshay i scored 98 marks and My age is 20\n"
     ]
    }
   ],
   "source": [
    "name='akshay'\n",
    "marks=98\n",
    "age=20\n",
    "print(\"My name is %s i scored %s marks and My age is %s\"%(name, marks, age))"
   ]
  },
  {
   "cell_type": "code",
   "execution_count": 49,
   "metadata": {},
   "outputs": [
    {
     "name": "stdout",
     "output_type": "stream",
     "text": [
      "My name is akshay i scored 98 marks and My age is 20\n"
     ]
    }
   ],
   "source": [
    "name='akshay'\n",
    "marks=98\n",
    "age=20\n",
    "print(f\"My name is {name} i scored {marks} marks and My age is {age}\")"
   ]
  },
  {
   "cell_type": "markdown",
   "metadata": {},
   "source": [
    "__\"THIS ARE THE WAYS WE CAN FORMAT THE UPCOMING OUTPUT...\"__"
   ]
  },
  {
   "cell_type": "markdown",
   "metadata": {},
   "source": [
    "# Python Variables and assignment Statements"
   ]
  },
  {
   "cell_type": "code",
   "execution_count": 11,
   "metadata": {},
   "outputs": [],
   "source": [
    "a=20      #a is the variable in which we can assign int, float, string, various other Data types values.\n",
    "a=\"akshay\"\n",
    "#variable name can be of any alphabet or name etc, but the keywords of python cannot be a variable... \n",
    "#this is the most important point that python programmer should note.\n",
    "#we can also use underscore with the variable name.\n",
    "_a=30.5"
   ]
  },
  {
   "cell_type": "markdown",
   "metadata": {},
   "source": [
    "# Python Operators\n",
    "1. Arithmetic operators\n",
    "2. Comparison Operators\n",
    "3. Assignment Operators\n",
    "4. Bitwise Operators\n",
    "5. Logical Operators\n",
    "6. Membership Operators\n",
    "7. identity Operators"
   ]
  },
  {
   "cell_type": "markdown",
   "metadata": {},
   "source": [
    "### 1. Arithmetic Operators"
   ]
  },
  {
   "cell_type": "code",
   "execution_count": 12,
   "metadata": {},
   "outputs": [
    {
     "name": "stdout",
     "output_type": "stream",
     "text": [
      "addition is 60\n",
      "subtraction is -20\n",
      "division is 0.5\n",
      "Multiplication is 800\n",
      "floor division is 0\n",
      "exponent is 10995116277760000000000000000000000000000000000000000\n",
      "modulo is 20\n"
     ]
    }
   ],
   "source": [
    "a=20\n",
    "b=40\n",
    "print('addition is',a+b)  # addition\n",
    "print('subtraction is',a-b)  # subtraction\n",
    "print('division is',a/b)  # division\n",
    "print('Multiplication is',a*b)  # Multiplication\n",
    "print('floor division is' ,a//b) # floor division (it always gives the int value )\n",
    "print('exponent is', a**b) # exponent \n",
    "print('modulo is', a%b)  # modulo ( it returns remainder of the following division)"
   ]
  },
  {
   "cell_type": "markdown",
   "metadata": {},
   "source": [
    "### 2. Comparison operators"
   ]
  },
  {
   "cell_type": "code",
   "execution_count": 14,
   "metadata": {},
   "outputs": [
    {
     "data": {
      "text/plain": [
       "False"
      ]
     },
     "execution_count": 14,
     "metadata": {},
     "output_type": "execute_result"
    }
   ],
   "source": [
    "a=30\n",
    "b=20\n",
    "a==b "
   ]
  },
  {
   "cell_type": "code",
   "execution_count": 15,
   "metadata": {},
   "outputs": [
    {
     "data": {
      "text/plain": [
       "True"
      ]
     },
     "execution_count": 15,
     "metadata": {},
     "output_type": "execute_result"
    }
   ],
   "source": [
    "a>b"
   ]
  },
  {
   "cell_type": "code",
   "execution_count": 16,
   "metadata": {},
   "outputs": [
    {
     "data": {
      "text/plain": [
       "False"
      ]
     },
     "execution_count": 16,
     "metadata": {},
     "output_type": "execute_result"
    }
   ],
   "source": [
    "a<b"
   ]
  },
  {
   "cell_type": "code",
   "execution_count": 17,
   "metadata": {},
   "outputs": [
    {
     "data": {
      "text/plain": [
       "True"
      ]
     },
     "execution_count": 17,
     "metadata": {},
     "output_type": "execute_result"
    }
   ],
   "source": [
    "a!=b # ! is not equal symbol"
   ]
  },
  {
   "cell_type": "code",
   "execution_count": 18,
   "metadata": {},
   "outputs": [
    {
     "data": {
      "text/plain": [
       "True"
      ]
     },
     "execution_count": 18,
     "metadata": {},
     "output_type": "execute_result"
    }
   ],
   "source": [
    "a>=b "
   ]
  },
  {
   "cell_type": "code",
   "execution_count": 19,
   "metadata": {},
   "outputs": [
    {
     "data": {
      "text/plain": [
       "False"
      ]
     },
     "execution_count": 19,
     "metadata": {},
     "output_type": "execute_result"
    }
   ],
   "source": [
    "a<=b"
   ]
  },
  {
   "cell_type": "markdown",
   "metadata": {},
   "source": [
    "### 3. Assignment Operators"
   ]
  },
  {
   "cell_type": "code",
   "execution_count": 21,
   "metadata": {},
   "outputs": [
    {
     "name": "stdout",
     "output_type": "stream",
     "text": [
      "The new value of a 30 \n",
      "The new value of b 30\n",
      "30 \n",
      " 40\n"
     ]
    }
   ],
   "source": [
    "a=50\n",
    "b=30\n",
    "a=b # variable b assigned the value to variable a so now a=30.\n",
    "b=a # the new value of a which was 30 is assigned to variable b  so now b is also equals to 30.\n",
    "print(\"The new value of a\",a,\"\\nThe new value of b\",b) # therefore we get a&b = 30.\n"
   ]
  },
  {
   "cell_type": "code",
   "execution_count": 23,
   "metadata": {},
   "outputs": [
    {
     "name": "stdout",
     "output_type": "stream",
     "text": [
      "30\n",
      "40\n"
     ]
    }
   ],
   "source": [
    "#Multiple assignment Operators\n",
    "a,b =30, 40  # in  this a will get value as 30 and b will get value as 40\n",
    "print(a)\n",
    "print(b)"
   ]
  },
  {
   "cell_type": "markdown",
   "metadata": {},
   "source": [
    "### 4. Bitwise Operators"
   ]
  },
  {
   "cell_type": "code",
   "execution_count": 29,
   "metadata": {},
   "outputs": [
    {
     "name": "stdout",
     "output_type": "stream",
     "text": [
      "Line 1 - Value of c is  12\n",
      "Line 2 - Value of c is  61\n",
      "Line 3 - Value of c is  49\n",
      "Line 4 - Value of c is  -61\n",
      "Line 5 - Value of c is  120\n",
      "Line 6 - Value of c is  15\n"
     ]
    }
   ],
   "source": [
    "a = 60            # 60 = 0011 1100 \n",
    "b = 13            # 13 = 0000 1101 \n",
    "\n",
    "c = a & b;        # 12 = 0000 1100   # binary and\n",
    "print(\"Line 1 - Value of c is \", c)\n",
    "\n",
    "c = a | b;        # 61 = 0011 1101   # binary or\n",
    "print(\"Line 2 - Value of c is \", c)\n",
    "\n",
    "c = a ^ b;        # 49 = 0011 0001   # binary not\n",
    "print(\"Line 3 - Value of c is \", c)\n",
    "\n",
    "c = ~a;           # -61 = 1100 0011  # binary xor\n",
    "print(\"Line 4 - Value of c is \", c)\n",
    "\n",
    "c = a << 1;       # 120 = 0111 1000  # binary Left shift Operator\n",
    "print(\"Line 5 - Value of c is \", c)\n",
    "\n",
    "c = a >> 2;       # 15 = 0000 1111   # binary Right Shift Operator\n",
    "print(\"Line 6 - Value of c is \", c)"
   ]
  },
  {
   "cell_type": "markdown",
   "metadata": {},
   "source": [
    "### 5. Logical Operators"
   ]
  },
  {
   "cell_type": "code",
   "execution_count": 31,
   "metadata": {},
   "outputs": [
    {
     "data": {
      "text/plain": [
       "False"
      ]
     },
     "execution_count": 31,
     "metadata": {},
     "output_type": "execute_result"
    }
   ],
   "source": [
    "# It is just the concept of true or false.\n",
    "a=20 \n",
    "b=30\n",
    "c=40\n",
    "d=40\n",
    "a==b and c==d       # and Operator "
   ]
  },
  {
   "cell_type": "code",
   "execution_count": 32,
   "metadata": {},
   "outputs": [
    {
     "data": {
      "text/plain": [
       "True"
      ]
     },
     "execution_count": 32,
     "metadata": {},
     "output_type": "execute_result"
    }
   ],
   "source": [
    "# or Operator\n",
    "a=20 \n",
    "b=30\n",
    "c=40\n",
    "d=40\n",
    "a==b or c==d  "
   ]
  },
  {
   "cell_type": "code",
   "execution_count": 34,
   "metadata": {},
   "outputs": [
    {
     "data": {
      "text/plain": [
       "True"
      ]
     },
     "execution_count": 34,
     "metadata": {},
     "output_type": "execute_result"
    }
   ],
   "source": [
    "# not Operator\n",
    "a=20 \n",
    "b=30\n",
    "c=40\n",
    "d=40\n",
    "not(a==b and c==d)  \n",
    "not(a==b or c==d)"
   ]
  },
  {
   "cell_type": "markdown",
   "metadata": {},
   "source": [
    "### 6. Membership Operators\n",
    " 1.__\"THIS IS THE OPERATOR WE ONLY USE IN THE SEQUENCES CALLED LIST, TUPLE, SETS, DICTIONARY ,STRINGS\"__ \n",
    "\n",
    "__\"These Operators returns True or False\"__\n",
    "<br>\n",
    " Operators are:\n",
    "1. in \n",
    "2. not in"
   ]
  },
  {
   "cell_type": "code",
   "execution_count": 36,
   "metadata": {},
   "outputs": [
    {
     "name": "stdout",
     "output_type": "stream",
     "text": [
      "True\n"
     ]
    }
   ],
   "source": [
    "L={1,2,3} # sets created with curly Brackets\n",
    "print( 1 in L)  # in Operator"
   ]
  },
  {
   "cell_type": "code",
   "execution_count": 38,
   "metadata": {},
   "outputs": [
    {
     "name": "stdout",
     "output_type": "stream",
     "text": [
      "False\n",
      "True\n"
     ]
    }
   ],
   "source": [
    "L=[1,2,3]  # List Created \n",
    "print(2 not in L) # not in Operator\n",
    "print(4 not in L)"
   ]
  },
  {
   "cell_type": "code",
   "execution_count": 53,
   "metadata": {},
   "outputs": [
    {
     "name": "stdout",
     "output_type": "stream",
     "text": [
      "True\n",
      "False\n",
      "True\n"
     ]
    }
   ],
   "source": [
    "str= \"LetsUpgradePython\"\n",
    "print(\"L\" in str)\n",
    "print(\"N\" in str)\n",
    "print(\"x\" not in str)"
   ]
  },
  {
   "cell_type": "markdown",
   "metadata": {},
   "source": [
    "### 7. Identity Operators\n",
    "__1.id()__\n",
    "<br>\n",
    "The id() function returns a unique id for the specified object.\n",
    "<br>\n",
    "The id is assigned to the object when it is created.\n",
    "<br>\n",
    "All objects in Python has its own unique id.\n",
    "\n",
    "__2. type()__\n",
    "<br>\n",
    "The Variable is identified by the built in function called type().\n",
    "<br>\n",
    "It returns the datatype of the Particular Variable.\n"
   ]
  },
  {
   "cell_type": "code",
   "execution_count": 44,
   "metadata": {},
   "outputs": [
    {
     "name": "stdout",
     "output_type": "stream",
     "text": [
      "140711772988400 <class 'int'>\n"
     ]
    }
   ],
   "source": [
    "a=20\n",
    "print(id(a), type(a))"
   ]
  },
  {
   "cell_type": "code",
   "execution_count": 42,
   "metadata": {},
   "outputs": [
    {
     "data": {
      "text/plain": [
       "140711772988400"
      ]
     },
     "execution_count": 42,
     "metadata": {},
     "output_type": "execute_result"
    }
   ],
   "source": [
    "a=b=20\n",
    "id(a)\n",
    "id(b)\n"
   ]
  },
  {
   "cell_type": "code",
   "execution_count": 45,
   "metadata": {},
   "outputs": [
    {
     "name": "stdout",
     "output_type": "stream",
     "text": [
      "<class 'str'>\n",
      "3158476311792\n"
     ]
    }
   ],
   "source": [
    "a=\"akshay\"\n",
    "print(type(a))\n",
    "print(id(a))"
   ]
  },
  {
   "cell_type": "code",
   "execution_count": 46,
   "metadata": {},
   "outputs": [
    {
     "name": "stdout",
     "output_type": "stream",
     "text": [
      "<class 'float'>\n",
      "3158475950352\n"
     ]
    }
   ],
   "source": [
    "a=30.5\n",
    "print(type(a))\n",
    "print(id(a))"
   ]
  }
 ],
 "metadata": {
  "kernelspec": {
   "display_name": "Python 3",
   "language": "python",
   "name": "python3"
  },
  "language_info": {
   "codemirror_mode": {
    "name": "ipython",
    "version": 3
   },
   "file_extension": ".py",
   "mimetype": "text/x-python",
   "name": "python",
   "nbconvert_exporter": "python",
   "pygments_lexer": "ipython3",
   "version": "3.7.6"
  }
 },
 "nbformat": 4,
 "nbformat_minor": 4
}
