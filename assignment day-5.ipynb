{
 "cells": [
  {
   "cell_type": "code",
   "execution_count": 1,
   "metadata": {},
   "outputs": [
    {
     "name": "stdout",
     "output_type": "stream",
     "text": [
      "[1, 1, 1, 2, 2, 3, 4, 4, 10, 56, 56, 0, 0, 0, 0, 0]\n"
     ]
    }
   ],
   "source": [
    "list=[0,1,2,10,4,1,0,56,2,0,1,3,0,56,0,4]\n",
    "\n",
    "def myfun(x):\n",
    "    if x!=0:\n",
    "        return x\n",
    "    else:\n",
    "        return 100\n",
    "list.sort(key=myfun)\n",
    "print(list)"
   ]
  },
  {
   "cell_type": "code",
   "execution_count": 2,
   "metadata": {},
   "outputs": [
    {
     "name": "stdout",
     "output_type": "stream",
     "text": [
      "[5, 10, 15, 20, 25, 35, 40, 45, 60, 60, 70, 80]\n"
     ]
    }
   ],
   "source": [
    "list1=[10,20,40,60,70,80]\n",
    "list2=[5,15,25,35,45,60]\n",
    "n=len(list1+list2)\n",
    "list3=[95]*n\n",
    "i=j=k=0\n",
    "for k in range(len(list3)):\n",
    "    if (i<len(list1) and j<len(list2)):\n",
    "        if (list1[i]<=list2[j]):\n",
    "            list3[k]=list1[i]\n",
    "            i+=1\n",
    "        else:\n",
    "            list3[k]=list2[j]\n",
    "            j+=1\n",
    "    else:\n",
    "        if(i<len(list1)):\n",
    "            list3[k]=list1[i]\n",
    "            i+=1\n",
    "        elif(j<len(list2)):\n",
    "            list3[k]=list2[j]\n",
    "            j+=1\n",
    "        else:\n",
    "            break\n",
    "print(list3)"
   ]
  },
  {
   "cell_type": "code",
   "execution_count": null,
   "metadata": {},
   "outputs": [],
   "source": []
  }
 ],
 "metadata": {
  "kernelspec": {
   "display_name": "Python 3",
   "language": "python",
   "name": "python3"
  },
  "language_info": {
   "codemirror_mode": {
    "name": "ipython",
    "version": 3
   },
   "file_extension": ".py",
   "mimetype": "text/x-python",
   "name": "python",
   "nbconvert_exporter": "python",
   "pygments_lexer": "ipython3",
   "version": "3.7.6"
  }
 },
 "nbformat": 4,
 "nbformat_minor": 4
}
