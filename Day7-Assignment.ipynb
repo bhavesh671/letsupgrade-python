{
 "cells": [
  {
   "cell_type": "markdown",
   "metadata": {},
   "source": [
    "# Q1.Use the Dictonary and make new Dictionary in which keys become values and values become keys."
   ]
  },
  {
   "cell_type": "code",
   "execution_count": 5,
   "metadata": {},
   "outputs": [
    {
     "name": "stdout",
     "output_type": "stream",
     "text": [
      "The New Dictionary in which keys are values and values are keys: {'FTP': 21, 'SSH': 22, 'telnet': 23, 'http': 80}\n"
     ]
    }
   ],
   "source": [
    "port1={21:\"FTP\",22:\"SSH\",23:\"telnet\",80:\"http\"}\n",
    "port2={}\n",
    "for key, values in port1.items():\n",
    "    port2[values]=key\n",
    "print(\"The New Dictionary in which keys are values and values are keys:\", port2)"
   ]
  },
  {
   "cell_type": "markdown",
   "metadata": {},
   "source": [
    "# Q2.Take a list of tuple. Make new List which Contains sum of numbers of tuples."
   ]
  },
  {
   "cell_type": "code",
   "execution_count": 4,
   "metadata": {},
   "outputs": [
    {
     "name": "stdout",
     "output_type": "stream",
     "text": [
      "The New List contains the sum of Numbers of tuples are: [3, 7, 11, 9]\n"
     ]
    }
   ],
   "source": [
    "l=[(1,2),(3,4),(5,6),(4,5)]\n",
    "L1=[]\n",
    "for i in range(len(l)):\n",
    "    L1.append(sum(l[i]))\n",
    "print(\"The New List contains the sum of Numbers of tuples are:\", L1)"
   ]
  },
  {
   "cell_type": "markdown",
   "metadata": {},
   "source": [
    "# Q3. Take a list as shown Below. The List contains tuples and Lists. Make the elements of inner lists and tuples to outer list."
   ]
  },
  {
   "cell_type": "code",
   "execution_count": 3,
   "metadata": {},
   "outputs": [
    {
     "name": "stdout",
     "output_type": "stream",
     "text": [
      "The new List is : [1, 2, 3, 1, 2, 'a', 'hit', 'less']\n"
     ]
    }
   ],
   "source": [
    "l=[(1,2,3),[1,2],[\"a\",\"hit\",\"less\"]]\n",
    "print(\"The new List is :\",[j for i in range(len(l)) for j in l[i]])"
   ]
  }
 ],
 "metadata": {
  "kernelspec": {
   "display_name": "Python 3",
   "language": "python",
   "name": "python3"
  },
  "language_info": {
   "codemirror_mode": {
    "name": "ipython",
    "version": 3
   },
   "file_extension": ".py",
   "mimetype": "text/x-python",
   "name": "python",
   "nbconvert_exporter": "python",
   "pygments_lexer": "ipython3",
   "version": "3.7.6"
  }
 },
 "nbformat": 4,
 "nbformat_minor": 4
}
