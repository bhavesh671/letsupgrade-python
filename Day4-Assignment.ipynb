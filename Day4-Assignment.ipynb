{
 "cells": [
  {
   "cell_type": "markdown",
   "metadata": {},
   "source": [
    "__Q1.Find the occurences of substring in Given string.__"
   ]
  },
  {
   "cell_type": "code",
   "execution_count": 2,
   "metadata": {},
   "outputs": [
    {
     "name": "stdout",
     "output_type": "stream",
     "text": [
      "Enter The Substring: we\n",
      "The index where the Substring occurs: 5\n",
      "The index where the Substring occurs: 14\n",
      "The index where the Substring occurs: 25\n"
     ]
    }
   ],
   "source": [
    "string=\"what we think we become: we are Python Programmer\"\n",
    "Substring=input(\"Enter The Substring: \")\n",
    "start=0\n",
    "for end in range(len(string)):\n",
    "    if string[start:end].find(Substring)!=-1:\n",
    "        start=end\n",
    "        print(\"The index where the Substring occurs:\",end-len(Substring))"
   ]
  },
  {
   "cell_type": "code",
   "execution_count": 9,
   "metadata": {},
   "outputs": [
    {
     "name": "stdout",
     "output_type": "stream",
     "text": [
      "Enter The Substring: we\n",
      "The index where the Substring occurs: 5\n",
      "The index where the Substring occurs: 14\n",
      "The index where the Substring occurs: 25\n"
     ]
    }
   ],
   "source": [
    "# Alternative Method \n",
    "string=\"what we think we become: we are Python Programmer\"\n",
    "Substring=input(\"Enter The Substring: \")\n",
    "for end in range(len(string)):\n",
    "    if string.startswith(Substring,end):\n",
    "        print(\"The index where the Substring occurs:\",end)"
   ]
  },
  {
   "cell_type": "code",
   "execution_count": 12,
   "metadata": {},
   "outputs": [
    {
     "name": "stdout",
     "output_type": "stream",
     "text": [
      "Enter The Substring: akshay\n",
      "The entered substring is not there in the given String.\n"
     ]
    }
   ],
   "source": [
    "#alternative method   \n",
    "# when substring doesnt occurs in the given string. it gives message.\n",
    "string=\"what we think we become: we are Python Programmer\"\n",
    "Substring=input(\"Enter The Substring: \")\n",
    "if Substring in string:\n",
    "    for end in range(len(string)):\n",
    "        if string.startswith(Substring,end):\n",
    "            print(\"The index where the Substring occurs:\",end)\n",
    "else:\n",
    "    print('The entered substring is not there in the given String.')"
   ]
  },
  {
   "cell_type": "markdown",
   "metadata": {},
   "source": [
    "__islower(): It is a built-in method. The islower () methods returns True if all characters in the string are lowercase, Otherwise, It returns False.__\n",
    "\n",
    "\n",
    "__isupper(): It is a built-in method.The isupper () methods returns True if all characters in the string are uppercase, Otherwise, It returns False.__"
   ]
  },
  {
   "cell_type": "code",
   "execution_count": 3,
   "metadata": {},
   "outputs": [
    {
     "data": {
      "text/plain": [
       "False"
      ]
     },
     "execution_count": 3,
     "metadata": {},
     "output_type": "execute_result"
    }
   ],
   "source": [
    "s=\"best Python-Programmer\"\n",
    "s.isupper()"
   ]
  },
  {
   "cell_type": "code",
   "execution_count": 8,
   "metadata": {},
   "outputs": [
    {
     "name": "stdout",
     "output_type": "stream",
     "text": [
      "False\n",
      "False\n"
     ]
    }
   ],
   "source": [
    "s=\"Think we bacame\"\n",
    "print(s.islower())\n",
    "print(s.isupper())"
   ]
  },
  {
   "cell_type": "code",
   "execution_count": 6,
   "metadata": {},
   "outputs": [
    {
     "name": "stdout",
     "output_type": "stream",
     "text": [
      "True\n",
      "False\n"
     ]
    }
   ],
   "source": [
    "s=\"think\"\n",
    "print(s.islower())\n",
    "print(s.isupper())"
   ]
  },
  {
   "cell_type": "code",
   "execution_count": 9,
   "metadata": {},
   "outputs": [
    {
     "data": {
      "text/plain": [
       "False"
      ]
     },
     "execution_count": 9,
     "metadata": {},
     "output_type": "execute_result"
    }
   ],
   "source": [
    "s=\"sankalp Programming:\"\n",
    "s.isupper()"
   ]
  },
  {
   "cell_type": "code",
   "execution_count": 10,
   "metadata": {},
   "outputs": [
    {
     "data": {
      "text/plain": [
       "False"
      ]
     },
     "execution_count": 10,
     "metadata": {},
     "output_type": "execute_result"
    }
   ],
   "source": [
    "s=\"sankalp Programming:\"\n",
    "s.islower()"
   ]
  },
  {
   "cell_type": "code",
   "execution_count": 10,
   "metadata": {},
   "outputs": [
    {
     "data": {
      "text/plain": [
       "True"
      ]
     },
     "execution_count": 10,
     "metadata": {},
     "output_type": "execute_result"
    }
   ],
   "source": [
    "S=\"my name is akshay\"\n",
    "S.startswith(\"my\",0)"
   ]
  }
 ],
 "metadata": {
  "kernelspec": {
   "display_name": "Python 3",
   "language": "python",
   "name": "python3"
  },
  "language_info": {
   "codemirror_mode": {
    "name": "ipython",
    "version": 3
   },
   "file_extension": ".py",
   "mimetype": "text/x-python",
   "name": "python",
   "nbconvert_exporter": "python",
   "pygments_lexer": "ipython3",
   "version": "3.7.6"
  }
 },
 "nbformat": 4,
 "nbformat_minor": 4
}
